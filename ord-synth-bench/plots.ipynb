{
 "cells": [
  {
   "cell_type": "code",
   "execution_count": 73,
   "metadata": {},
   "outputs": [],
   "source": [
    "import pandas as pd\n",
    "import numpy as np\n",
    "from matplotlib import pyplot as plt"
   ]
  },
  {
   "cell_type": "code",
   "execution_count": 74,
   "metadata": {},
   "outputs": [],
   "source": [
    "df = pd.read_csv('collated.csv')"
   ]
  },
  {
   "cell_type": "code",
   "execution_count": 75,
   "metadata": {},
   "outputs": [
    {
     "data": {
      "text/html": [
       "<div>\n",
       "<style scoped>\n",
       "    .dataframe tbody tr th:only-of-type {\n",
       "        vertical-align: middle;\n",
       "    }\n",
       "\n",
       "    .dataframe tbody tr th {\n",
       "        vertical-align: top;\n",
       "    }\n",
       "\n",
       "    .dataframe thead th {\n",
       "        text-align: right;\n",
       "    }\n",
       "</style>\n",
       "<table border=\"1\" class=\"dataframe\">\n",
       "  <thead>\n",
       "    <tr style=\"text-align: right;\">\n",
       "      <th></th>\n",
       "      <th>File</th>\n",
       "      <th>ConfigId</th>\n",
       "      <th>Result</th>\n",
       "      <th>RuntimeSec</th>\n",
       "      <th>Count</th>\n",
       "    </tr>\n",
       "  </thead>\n",
       "  <tbody>\n",
       "    <tr>\n",
       "      <th>0</th>\n",
       "      <td>max2-exp.sl</td>\n",
       "      <td>Bottom-up (raw)</td>\n",
       "      <td>sat</td>\n",
       "      <td>0.004700</td>\n",
       "      <td>1363</td>\n",
       "    </tr>\n",
       "    <tr>\n",
       "      <th>1</th>\n",
       "      <td>max2-exp.sl</td>\n",
       "      <td>Bottom-up (OE)</td>\n",
       "      <td>sat</td>\n",
       "      <td>0.044300</td>\n",
       "      <td>307</td>\n",
       "    </tr>\n",
       "    <tr>\n",
       "      <th>2</th>\n",
       "      <td>max2-exp.sl</td>\n",
       "      <td>Top-down (raw)</td>\n",
       "      <td>sat</td>\n",
       "      <td>0.052300</td>\n",
       "      <td>2742</td>\n",
       "    </tr>\n",
       "    <tr>\n",
       "      <th>3</th>\n",
       "      <td>max2-exp.sl</td>\n",
       "      <td>Top-down (intervals)</td>\n",
       "      <td>sat</td>\n",
       "      <td>0.059898</td>\n",
       "      <td>1170</td>\n",
       "    </tr>\n",
       "    <tr>\n",
       "      <th>4</th>\n",
       "      <td>regex4-simple.sl</td>\n",
       "      <td>Bottom-up (raw)</td>\n",
       "      <td>sat</td>\n",
       "      <td>1.581000</td>\n",
       "      <td>261791</td>\n",
       "    </tr>\n",
       "    <tr>\n",
       "      <th>5</th>\n",
       "      <td>regex4-simple.sl</td>\n",
       "      <td>Bottom-up (OE)</td>\n",
       "      <td>sat</td>\n",
       "      <td>1.706900</td>\n",
       "      <td>15374</td>\n",
       "    </tr>\n",
       "    <tr>\n",
       "      <th>6</th>\n",
       "      <td>regex4-simple.sl</td>\n",
       "      <td>Top-down (raw)</td>\n",
       "      <td>sat</td>\n",
       "      <td>2.241000</td>\n",
       "      <td>221631</td>\n",
       "    </tr>\n",
       "    <tr>\n",
       "      <th>7</th>\n",
       "      <td>regex4-simple.sl</td>\n",
       "      <td>Top-down (intervals)</td>\n",
       "      <td>sat</td>\n",
       "      <td>3.360873</td>\n",
       "      <td>79511</td>\n",
       "    </tr>\n",
       "    <tr>\n",
       "      <th>8</th>\n",
       "      <td>max3-exp.sl</td>\n",
       "      <td>Bottom-up (OE)</td>\n",
       "      <td>sat</td>\n",
       "      <td>1.736400</td>\n",
       "      <td>41680</td>\n",
       "    </tr>\n",
       "    <tr>\n",
       "      <th>9</th>\n",
       "      <td>max3-exp.sl</td>\n",
       "      <td>Top-down (intervals)</td>\n",
       "      <td>sat</td>\n",
       "      <td>52.751919</td>\n",
       "      <td>3533567</td>\n",
       "    </tr>\n",
       "    <tr>\n",
       "      <th>10</th>\n",
       "      <td>impv-demo.sl</td>\n",
       "      <td>Bottom-up (raw)</td>\n",
       "      <td>sat</td>\n",
       "      <td>21.014900</td>\n",
       "      <td>4403817</td>\n",
       "    </tr>\n",
       "    <tr>\n",
       "      <th>11</th>\n",
       "      <td>impv-demo.sl</td>\n",
       "      <td>Bottom-up (OE)</td>\n",
       "      <td>sat</td>\n",
       "      <td>2.116200</td>\n",
       "      <td>101530</td>\n",
       "    </tr>\n",
       "    <tr>\n",
       "      <th>12</th>\n",
       "      <td>impv-demo.sl</td>\n",
       "      <td>Top-down (raw)</td>\n",
       "      <td>timeout</td>\n",
       "      <td>325.226100</td>\n",
       "      <td>15194651</td>\n",
       "    </tr>\n",
       "    <tr>\n",
       "      <th>13</th>\n",
       "      <td>impv-demo.sl</td>\n",
       "      <td>Top-down (intervals)</td>\n",
       "      <td>err</td>\n",
       "      <td>0.000000</td>\n",
       "      <td>0</td>\n",
       "    </tr>\n",
       "    <tr>\n",
       "      <th>14</th>\n",
       "      <td>regex4-either-pair.sl</td>\n",
       "      <td>Bottom-up (raw)</td>\n",
       "      <td>sat</td>\n",
       "      <td>17.985300</td>\n",
       "      <td>1748872</td>\n",
       "    </tr>\n",
       "    <tr>\n",
       "      <th>15</th>\n",
       "      <td>regex4-either-pair.sl</td>\n",
       "      <td>Bottom-up (OE)</td>\n",
       "      <td>sat</td>\n",
       "      <td>7.626900</td>\n",
       "      <td>43321</td>\n",
       "    </tr>\n",
       "    <tr>\n",
       "      <th>16</th>\n",
       "      <td>regex4-either-pair.sl</td>\n",
       "      <td>Top-down (raw)</td>\n",
       "      <td>sat</td>\n",
       "      <td>24.252800</td>\n",
       "      <td>1493541</td>\n",
       "    </tr>\n",
       "    <tr>\n",
       "      <th>17</th>\n",
       "      <td>regex4-either-pair.sl</td>\n",
       "      <td>Top-down (intervals)</td>\n",
       "      <td>sat</td>\n",
       "      <td>23.998306</td>\n",
       "      <td>497741</td>\n",
       "    </tr>\n",
       "    <tr>\n",
       "      <th>18</th>\n",
       "      <td>polynomial.sl</td>\n",
       "      <td>Bottom-up (OE)</td>\n",
       "      <td>sat</td>\n",
       "      <td>11.174500</td>\n",
       "      <td>271117</td>\n",
       "    </tr>\n",
       "    <tr>\n",
       "      <th>19</th>\n",
       "      <td>polynomial.sl</td>\n",
       "      <td>Top-down (intervals)</td>\n",
       "      <td>timeout</td>\n",
       "      <td>900.000000</td>\n",
       "      <td>0</td>\n",
       "    </tr>\n",
       "    <tr>\n",
       "      <th>20</th>\n",
       "      <td>regex6-padded-cycle.sl</td>\n",
       "      <td>Bottom-up (OE)</td>\n",
       "      <td>sat</td>\n",
       "      <td>49.042100</td>\n",
       "      <td>95725</td>\n",
       "    </tr>\n",
       "  </tbody>\n",
       "</table>\n",
       "</div>"
      ],
      "text/plain": [
       "                      File              ConfigId   Result  RuntimeSec  \\\n",
       "0              max2-exp.sl       Bottom-up (raw)      sat    0.004700   \n",
       "1              max2-exp.sl        Bottom-up (OE)      sat    0.044300   \n",
       "2              max2-exp.sl        Top-down (raw)      sat    0.052300   \n",
       "3              max2-exp.sl  Top-down (intervals)      sat    0.059898   \n",
       "4         regex4-simple.sl       Bottom-up (raw)      sat    1.581000   \n",
       "5         regex4-simple.sl        Bottom-up (OE)      sat    1.706900   \n",
       "6         regex4-simple.sl        Top-down (raw)      sat    2.241000   \n",
       "7         regex4-simple.sl  Top-down (intervals)      sat    3.360873   \n",
       "8              max3-exp.sl        Bottom-up (OE)      sat    1.736400   \n",
       "9              max3-exp.sl  Top-down (intervals)      sat   52.751919   \n",
       "10            impv-demo.sl       Bottom-up (raw)      sat   21.014900   \n",
       "11            impv-demo.sl        Bottom-up (OE)      sat    2.116200   \n",
       "12            impv-demo.sl        Top-down (raw)  timeout  325.226100   \n",
       "13            impv-demo.sl  Top-down (intervals)      err    0.000000   \n",
       "14   regex4-either-pair.sl       Bottom-up (raw)      sat   17.985300   \n",
       "15   regex4-either-pair.sl        Bottom-up (OE)      sat    7.626900   \n",
       "16   regex4-either-pair.sl        Top-down (raw)      sat   24.252800   \n",
       "17   regex4-either-pair.sl  Top-down (intervals)      sat   23.998306   \n",
       "18           polynomial.sl        Bottom-up (OE)      sat   11.174500   \n",
       "19           polynomial.sl  Top-down (intervals)  timeout  900.000000   \n",
       "20  regex6-padded-cycle.sl        Bottom-up (OE)      sat   49.042100   \n",
       "\n",
       "       Count  \n",
       "0       1363  \n",
       "1        307  \n",
       "2       2742  \n",
       "3       1170  \n",
       "4     261791  \n",
       "5      15374  \n",
       "6     221631  \n",
       "7      79511  \n",
       "8      41680  \n",
       "9    3533567  \n",
       "10   4403817  \n",
       "11    101530  \n",
       "12  15194651  \n",
       "13         0  \n",
       "14   1748872  \n",
       "15     43321  \n",
       "16   1493541  \n",
       "17    497741  \n",
       "18    271117  \n",
       "19         0  \n",
       "20     95725  "
      ]
     },
     "execution_count": 75,
     "metadata": {},
     "output_type": "execute_result"
    }
   ],
   "source": [
    "df"
   ]
  },
  {
   "cell_type": "code",
   "execution_count": 76,
   "metadata": {},
   "outputs": [
    {
     "name": "stderr",
     "output_type": "stream",
     "text": [
      "C:\\Users\\Wiley\\AppData\\Local\\Temp/ipykernel_24712/4237833498.py:2: SettingWithCopyWarning: \n",
      "A value is trying to be set on a copy of a slice from a DataFrame.\n",
      "Try using .loc[row_indexer,col_indexer] = value instead\n",
      "\n",
      "See the caveats in the documentation: https://pandas.pydata.org/pandas-docs/stable/user_guide/indexing.html#returning-a-view-versus-a-copy\n",
      "  df['LogTenCount'] = np.log10(df.Count)\n"
     ]
    }
   ],
   "source": [
    "df = df[np.equal(df.Result,'sat')]\n",
    "df['LogTenCount'] = np.log10(df.Count)"
   ]
  },
  {
   "cell_type": "code",
   "execution_count": 77,
   "metadata": {},
   "outputs": [
    {
     "name": "stderr",
     "output_type": "stream",
     "text": [
      "C:\\Users\\Wiley\\AppData\\Local\\Temp/ipykernel_24712/1281722720.py:8: SettingWithCopyWarning: \n",
      "A value is trying to be set on a copy of a slice from a DataFrame.\n",
      "Try using .loc[row_indexer,col_indexer] = value instead\n",
      "\n",
      "See the caveats in the documentation: https://pandas.pydata.org/pandas-docs/stable/user_guide/indexing.html#returning-a-view-versus-a-copy\n",
      "  df['ConfigIdx'] = [config_map[a] for a in df.ConfigId]\n"
     ]
    }
   ],
   "source": [
    "distinct_configs = [k for k in np.unique(df.ConfigId)]\n",
    "config_map = dict()\n",
    "config_map_inv = dict()\n",
    "for i in range(len(ids)):\n",
    "    config_map[distinct_configs[i]] = i\n",
    "    config_map_inv[i] = distinct_configs[i]\n",
    "    \n",
    "df['ConfigIdx'] = [config_map[a] for a in df.ConfigId]"
   ]
  },
  {
   "cell_type": "code",
   "execution_count": 99,
   "metadata": {},
   "outputs": [
    {
     "data": {
      "text/plain": [
       "<matplotlib.legend.Legend at 0x2294ab5cfd0>"
      ]
     },
     "execution_count": 99,
     "metadata": {},
     "output_type": "execute_result"
    },
    {
     "data": {
      "image/png": "[encoded data removed]",
      "text/plain": [
       "<Figure size 432x288 with 1 Axes>"
      ]
     },
     "metadata": {
      "needs_background": "light"
     },
     "output_type": "display_data"
    }
   ],
   "source": [
    "(fig,ax) = plt.subplots()\n",
    "\n",
    "scatter = ax.scatter(y=df.File,x=df.Count,s=100,c=[config_map[k] for k in df.ConfigId])\n",
    "\n",
    "rr = scatter.legend_elements()\n",
    "rr = (rr[0],  [config_map_inv[i] for i in range(len(rr[1]))])\n",
    "\n",
    "ax.set_xlabel(\"Terms enumerated\")\n",
    "\n",
    "ax.legend(*rr)"
   ]
  },
  {
   "cell_type": "code",
   "execution_count": 100,
   "metadata": {},
   "outputs": [
    {
     "data": {
      "text/plain": [
       "<matplotlib.legend.Legend at 0x2294ab67670>"
      ]
     },
     "execution_count": 100,
     "metadata": {},
     "output_type": "execute_result"
    },
    {
     "data": {
      "image/png": "[encoded data removed]",
      "text/plain": [
       "<Figure size 432x288 with 1 Axes>"
      ]
     },
     "metadata": {
      "needs_background": "light"
     },
     "output_type": "display_data"
    }
   ],
   "source": [
    "(fig,ax) = plt.subplots()\n",
    "\n",
    "scatter = ax.scatter(y=df.File,x=df.LogTenCount,s=100,c=[config_map[k] for k in df.ConfigId])\n",
    "\n",
    "rr = scatter.legend_elements()\n",
    "rr = (rr[0],  [config_map_inv[i] for i in range(len(rr[1]))])\n",
    "\n",
    "ax.set_xlabel('Terms enumerated (log10)')\n",
    "\n",
    "ax.legend(*rr)"
   ]
  },
  {
   "cell_type": "code",
   "execution_count": 101,
   "metadata": {},
   "outputs": [
    {
     "data": {
      "text/plain": [
       "<matplotlib.legend.Legend at 0x2294ac1c3d0>"
      ]
     },
     "execution_count": 101,
     "metadata": {},
     "output_type": "execute_result"
    },
    {
     "data": {
      "image/png": "[encoded data removed]",
      "text/plain": [
       "<Figure size 432x288 with 1 Axes>"
      ]
     },
     "metadata": {
      "needs_background": "light"
     },
     "output_type": "display_data"
    }
   ],
   "source": [
    "(fig,ax) = plt.subplots()\n",
    "\n",
    "scatter = ax.scatter(y=df.File,x=df.RuntimeSec,s=100,c=[config_map[k] for k in df.ConfigId])\n",
    "\n",
    "rr = scatter.legend_elements()\n",
    "rr = (rr[0],  [config_map_inv[i] for i in range(len(rr[1]))])\n",
    "ax.set_xlabel('Realtime duration (sec)')\n",
    "ax.legend(*rr)"
   ]
  },
  {
   "cell_type": "code",
   "execution_count": 87,
   "metadata": {},
   "outputs": [],
   "source": [
    "etc = df[np.isin(df.ConfigId, ['Top-down (raw)','Top-down (intervals)'])]"
   ]
  },
  {
   "cell_type": "code",
   "execution_count": 89,
   "metadata": {},
   "outputs": [],
   "source": [
    "rdf = pd.read_csv(\"ratios.csv\")"
   ]
  },
  {
   "cell_type": "code",
   "execution_count": 98,
   "metadata": {},
   "outputs": [
    {
     "data": {
      "text/plain": [
       "<matplotlib.legend.Legend at 0x2294a887220>"
      ]
     },
     "execution_count": 98,
     "metadata": {},
     "output_type": "execute_result"
    },
    {
     "data": {
      "image/png": "[encoded data removed]",
      "text/plain": [
       "<Figure size 432x288 with 1 Axes>"
      ]
     },
     "metadata": {
      "needs_background": "light"
     },
     "output_type": "display_data"
    }
   ],
   "source": [
    "(fig,ax) = plt.subplots()\n",
    "\n",
    "\n",
    "\n",
    "scatter = ax.scatter(y=df.File,x=df.RuntimeSec,c=[config_map[k] for k in df.ConfigId])\n",
    "\n",
    "rr = scatter.legend_elements()\n",
    "rr = (rr[0],  [config_map_inv[i] for i in range(len(rr[1]))])\n",
    "\n",
    "ax.legend(*rr)"
   ]
  },
  {
   "cell_type": "code",
   "execution_count": null,
   "metadata": {},
   "outputs": [],
   "source": []
  }
 ],
 "metadata": {
  "interpreter": {
   "hash": "fcc4129231c4720a19cff4908985763beeb94c23f487854a7246f1fc499a092f"
  },
  "kernelspec": {
   "display_name": "Python 3.9.7 ('base')",
   "language": "python",
   "name": "python3"
  },
  "language_info": {
   "codemirror_mode": {
    "name": "ipython",
    "version": 3
   },
   "file_extension": ".py",
   "mimetype": "text/x-python",
   "name": "python",
   "nbconvert_exporter": "python",
   "pygments_lexer": "ipython3",
   "version": "3.9.7"
  },
  "orig_nbformat": 4
 },
 "nbformat": 4,
 "nbformat_minor": 2
}
